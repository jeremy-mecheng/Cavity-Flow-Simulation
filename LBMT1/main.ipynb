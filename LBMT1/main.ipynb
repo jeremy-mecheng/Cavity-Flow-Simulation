{
 "cells": [
  {
   "cell_type": "markdown",
   "id": "dadf7da5",
   "metadata": {},
   "source": [
    "# **Cavity Flow - Lattice Boltzman Method**\n",
    "***"
   ]
  },
  {
   "cell_type": "markdown",
   "id": "a908e073",
   "metadata": {},
   "source": [
    "### **1. Introduction**"
   ]
  },
  {
   "cell_type": "markdown",
   "id": "614b931f",
   "metadata": {},
   "source": [
    "## **Python Implementation**\n",
    "***"
   ]
  },
  {
   "cell_type": "markdown",
   "id": "674eb0ff",
   "metadata": {},
   "source": [
    "### **1. Importing libraries**"
   ]
  },
  {
   "cell_type": "code",
   "execution_count": 9,
   "id": "86542750",
   "metadata": {},
   "outputs": [],
   "source": [
    "import numpy as np\n",
    "import matplotlib.pyplot as plt\n",
    "import matplotlib.animation as ani"
   ]
  },
  {
   "cell_type": "markdown",
   "id": "ee826051",
   "metadata": {},
   "source": [
    "### **2. Defining parameters**"
   ]
  },
  {
   "cell_type": "code",
   "execution_count": 10,
   "id": "c64ff00f",
   "metadata": {},
   "outputs": [],
   "source": [
    "#Matrix\n",
    "L = 100\n",
    "U = np.zeros((2,L,L), dtype=float)\n",
    "V = np.zeros((2,L,L), dtype=float)\n",
    "R = np.zeros((2,L,L), dtype=float)\n",
    "\n",
    "F = np.zeros((L,L), dtype=int)\n",
    "\n",
    "ex = np.array([0, 1, 0, -1, 0, 1, -1, -1, 1])\n",
    "ey = np.array([0, 0, 1, 0, -1, 1, 1, -1, -1])\n",
    "inv = np.array([0, 3, 4, 1, 2, 7, 8, 5, 6])\n",
    "w = np.array([4/9, 1/9, 1/9, 1/9, 1/9, 1/36, 1/36, 1/36, 1/36])\n",
    "\n",
    "uo = 0.5"
   ]
  },
  {
   "cell_type": "markdown",
   "id": "6e7241e1",
   "metadata": {},
   "source": [
    "### **3. Initialize the array**"
   ]
  },
  {
   "cell_type": "code",
   "execution_count": 11,
   "id": "cbd74856",
   "metadata": {},
   "outputs": [],
   "source": [
    "def init():\n",
    "\tfor i in range(L):\n",
    "\t\tfor j in range(L):\n",
    "\t\t\tU[0][i][j] = V[0][i][j] = 0\n",
    "\t\t\tU[1][i][j] = V[1][i][j] = 0\n",
    "\t\t\tR[0][i][j] = R[1][i][j] = 1\n",
    "\t\t\tF[i][j] = 0\n",
    "\t\t\t\n",
    "\t\t\tif j == 0 or i == 0 or i == L-1:\n",
    "\t\t\t\tF[i][j] = 1\n",
    "\t\t\t\n",
    "\t\t\tif j == L-1:\n",
    "\t\t\t\tU[0][i][j] = U[1][i][j] = uo"
   ]
  },
  {
   "cell_type": "markdown",
   "id": "1e2d2404",
   "metadata": {},
   "source": [
    "### **4. Lattice Boltzman Method Implementation**"
   ]
  },
  {
   "cell_type": "code",
   "execution_count": 12,
   "id": "2c46e3e3",
   "metadata": {},
   "outputs": [],
   "source": [
    "def LBM(c):\n",
    "\tr, u, v, f = 0, 0, 0, 0\n",
    "\tfor i in range(L):\n",
    "\t\tfor j in range(L-1):\n",
    "\t\t\tif F[i][j] == 0:\n",
    "\t\t\t\tU[c][i][j] = V[c][i][j] = R[c][i][j] = 0\n",
    "\t\t\t\tfor k in range(9):\n",
    "\t\t\t\t\tip = i + ex[k]\n",
    "\t\t\t\t\tjp = j + ey[k]\n",
    "\t\t\t\t\tik = inv[k]\n",
    "\t\t\t\t\tif F[ip][jp] == 0:\n",
    "\t\t\t\t\t\tr = R[1-c][ip][jp]\n",
    "\t\t\t\t\t\tu = U[1-c][ip][jp]/r\n",
    "\t\t\t\t\t\tv = V[1-c][ip][jp]/r\n",
    "\t\t\t\t\t\tf = w[ik]*r*(1-(3/2)*(u*u + v*v)+3*(ex[ik]*u+ey[ik]*v)+(9/2)*(ex[ik]*u+ey[ik]*v)*(ex[ik]*u + ey[ik]*v))\n",
    "\t\t\t\t\telse:\n",
    "\t\t\t\t\t\tf = w[ik]*R[1-c][i][j]\n",
    "\t\t\t\t\t\t\n",
    "\t\t\t\t\tR[c][i][j] += f\n",
    "\t\t\t\t\tU[c][i][j] += ex[ik]*f\n",
    "\t\t\t\t\tV[c][i][j] += ey[ik]*f"
   ]
  },
  {
   "cell_type": "markdown",
   "id": "5fa99fc4",
   "metadata": {},
   "source": [
    "### **5. Data Visualization**"
   ]
  },
  {
   "cell_type": "code",
   "execution_count": 13,
   "id": "4b2a1bcc",
   "metadata": {},
   "outputs": [],
   "source": [
    "init()\t\t\t\t\n",
    "# Función para actualizar el gráfico en cada paso de la animación\n",
    "def update(frame):\n",
    "    c = frame % 2  # Alternar entre 0 y 1\n",
    "    LBM(c)  # Llamar a LBM para actualizar las distribuciones de velocidad\n",
    "    \n",
    "    # Limpiar el gráfico anterior\n",
    "    plt.clf()\n",
    "    \n",
    "    # Actualizar la visualización con el campo de velocidades\n",
    "    plt.subplot(1, 1, 1)  # Subgráfico único\n",
    "    speed = np.sqrt(U[c]**2 + V[c]**2)  # Magnitud de la velocidad\n",
    "    speed_r = np.rot90(speed)\n",
    "    plt.imshow(speed_r, cmap='viridis', interpolation='none')\n",
    "    plt.colorbar(label='Magnitud de la Velocidad')\n",
    "    plt.title(f'Evolución de la Velocidad en el Paso {frame}')\n",
    "    plt.xlabel('X')\n",
    "    plt.ylabel('Y')"
   ]
  },
  {
   "cell_type": "markdown",
   "id": "d7860845",
   "metadata": {},
   "source": [
    "### **6. Create Animation**"
   ]
  },
  {
   "cell_type": "code",
   "execution_count": 14,
   "id": "b7347cbc",
   "metadata": {},
   "outputs": [
    {
     "ename": "KeyboardInterrupt",
     "evalue": "",
     "output_type": "error",
     "traceback": [
      "\u001b[1;31m---------------------------------------------------------------------------\u001b[0m",
      "\u001b[1;31mKeyboardInterrupt\u001b[0m                         Traceback (most recent call last)",
      "\u001b[1;32m~\\AppData\\Local\\Temp\\ipykernel_22356\\1725506930.py\u001b[0m in \u001b[0;36m<cell line: 8>\u001b[1;34m()\u001b[0m\n\u001b[0;32m      6\u001b[0m \u001b[1;33m\u001b[0m\u001b[0m\n\u001b[0;32m      7\u001b[0m \u001b[1;32mfrom\u001b[0m \u001b[0mIPython\u001b[0m\u001b[1;33m.\u001b[0m\u001b[0mdisplay\u001b[0m \u001b[1;32mimport\u001b[0m \u001b[0mHTML\u001b[0m\u001b[1;33m\u001b[0m\u001b[1;33m\u001b[0m\u001b[0m\n\u001b[1;32m----> 8\u001b[1;33m \u001b[0mHTML\u001b[0m\u001b[1;33m(\u001b[0m\u001b[0manim\u001b[0m\u001b[1;33m.\u001b[0m\u001b[0mto_jshtml\u001b[0m\u001b[1;33m(\u001b[0m\u001b[1;33m)\u001b[0m\u001b[1;33m)\u001b[0m\u001b[1;33m\u001b[0m\u001b[1;33m\u001b[0m\u001b[0m\n\u001b[0m",
      "\u001b[1;32m~\\AppData\\Roaming\\Python\\Python38\\site-packages\\matplotlib\\animation.py\u001b[0m in \u001b[0;36mto_jshtml\u001b[1;34m(self, fps, embed_frames, default_mode)\u001b[0m\n\u001b[0;32m   1327\u001b[0m                                     \u001b[0membed_frames\u001b[0m\u001b[1;33m=\u001b[0m\u001b[0membed_frames\u001b[0m\u001b[1;33m,\u001b[0m\u001b[1;33m\u001b[0m\u001b[1;33m\u001b[0m\u001b[0m\n\u001b[0;32m   1328\u001b[0m                                     default_mode=default_mode)\n\u001b[1;32m-> 1329\u001b[1;33m                 \u001b[0mself\u001b[0m\u001b[1;33m.\u001b[0m\u001b[0msave\u001b[0m\u001b[1;33m(\u001b[0m\u001b[0mstr\u001b[0m\u001b[1;33m(\u001b[0m\u001b[0mpath\u001b[0m\u001b[1;33m)\u001b[0m\u001b[1;33m,\u001b[0m \u001b[0mwriter\u001b[0m\u001b[1;33m=\u001b[0m\u001b[0mwriter\u001b[0m\u001b[1;33m)\u001b[0m\u001b[1;33m\u001b[0m\u001b[1;33m\u001b[0m\u001b[0m\n\u001b[0m\u001b[0;32m   1330\u001b[0m                 \u001b[0mself\u001b[0m\u001b[1;33m.\u001b[0m\u001b[0m_html_representation\u001b[0m \u001b[1;33m=\u001b[0m \u001b[0mpath\u001b[0m\u001b[1;33m.\u001b[0m\u001b[0mread_text\u001b[0m\u001b[1;33m(\u001b[0m\u001b[1;33m)\u001b[0m\u001b[1;33m\u001b[0m\u001b[1;33m\u001b[0m\u001b[0m\n\u001b[0;32m   1331\u001b[0m \u001b[1;33m\u001b[0m\u001b[0m\n",
      "\u001b[1;32m~\\AppData\\Roaming\\Python\\Python38\\site-packages\\matplotlib\\animation.py\u001b[0m in \u001b[0;36msave\u001b[1;34m(self, filename, writer, fps, dpi, codec, bitrate, extra_args, metadata, extra_anim, savefig_kwargs, progress_callback)\u001b[0m\n\u001b[0;32m   1079\u001b[0m                 \u001b[1;32mfor\u001b[0m \u001b[0manim\u001b[0m\u001b[1;33m,\u001b[0m \u001b[0md\u001b[0m \u001b[1;32min\u001b[0m \u001b[0mzip\u001b[0m\u001b[1;33m(\u001b[0m\u001b[0mall_anim\u001b[0m\u001b[1;33m,\u001b[0m \u001b[0mdata\u001b[0m\u001b[1;33m)\u001b[0m\u001b[1;33m:\u001b[0m\u001b[1;33m\u001b[0m\u001b[1;33m\u001b[0m\u001b[0m\n\u001b[0;32m   1080\u001b[0m                     \u001b[1;31m# TODO: See if turning off blit is really necessary\u001b[0m\u001b[1;33m\u001b[0m\u001b[1;33m\u001b[0m\u001b[1;33m\u001b[0m\u001b[0m\n\u001b[1;32m-> 1081\u001b[1;33m                     \u001b[0manim\u001b[0m\u001b[1;33m.\u001b[0m\u001b[0m_draw_next_frame\u001b[0m\u001b[1;33m(\u001b[0m\u001b[0md\u001b[0m\u001b[1;33m,\u001b[0m \u001b[0mblit\u001b[0m\u001b[1;33m=\u001b[0m\u001b[1;32mFalse\u001b[0m\u001b[1;33m)\u001b[0m\u001b[1;33m\u001b[0m\u001b[1;33m\u001b[0m\u001b[0m\n\u001b[0m\u001b[0;32m   1082\u001b[0m                     \u001b[1;32mif\u001b[0m \u001b[0mprogress_callback\u001b[0m \u001b[1;32mis\u001b[0m \u001b[1;32mnot\u001b[0m \u001b[1;32mNone\u001b[0m\u001b[1;33m:\u001b[0m\u001b[1;33m\u001b[0m\u001b[1;33m\u001b[0m\u001b[0m\n\u001b[0;32m   1083\u001b[0m                         \u001b[0mprogress_callback\u001b[0m\u001b[1;33m(\u001b[0m\u001b[0mframe_number\u001b[0m\u001b[1;33m,\u001b[0m \u001b[0mtotal_frames\u001b[0m\u001b[1;33m)\u001b[0m\u001b[1;33m\u001b[0m\u001b[1;33m\u001b[0m\u001b[0m\n",
      "\u001b[1;32m~\\AppData\\Roaming\\Python\\Python38\\site-packages\\matplotlib\\animation.py\u001b[0m in \u001b[0;36m_draw_next_frame\u001b[1;34m(self, framedata, blit)\u001b[0m\n\u001b[0;32m   1114\u001b[0m         \u001b[1;31m# post- draw, as well as the drawing of the frame itself.\u001b[0m\u001b[1;33m\u001b[0m\u001b[1;33m\u001b[0m\u001b[1;33m\u001b[0m\u001b[0m\n\u001b[0;32m   1115\u001b[0m         \u001b[0mself\u001b[0m\u001b[1;33m.\u001b[0m\u001b[0m_pre_draw\u001b[0m\u001b[1;33m(\u001b[0m\u001b[0mframedata\u001b[0m\u001b[1;33m,\u001b[0m \u001b[0mblit\u001b[0m\u001b[1;33m)\u001b[0m\u001b[1;33m\u001b[0m\u001b[1;33m\u001b[0m\u001b[0m\n\u001b[1;32m-> 1116\u001b[1;33m         \u001b[0mself\u001b[0m\u001b[1;33m.\u001b[0m\u001b[0m_draw_frame\u001b[0m\u001b[1;33m(\u001b[0m\u001b[0mframedata\u001b[0m\u001b[1;33m)\u001b[0m\u001b[1;33m\u001b[0m\u001b[1;33m\u001b[0m\u001b[0m\n\u001b[0m\u001b[0;32m   1117\u001b[0m         \u001b[0mself\u001b[0m\u001b[1;33m.\u001b[0m\u001b[0m_post_draw\u001b[0m\u001b[1;33m(\u001b[0m\u001b[0mframedata\u001b[0m\u001b[1;33m,\u001b[0m \u001b[0mblit\u001b[0m\u001b[1;33m)\u001b[0m\u001b[1;33m\u001b[0m\u001b[1;33m\u001b[0m\u001b[0m\n\u001b[0;32m   1118\u001b[0m \u001b[1;33m\u001b[0m\u001b[0m\n",
      "\u001b[1;32m~\\AppData\\Roaming\\Python\\Python38\\site-packages\\matplotlib\\animation.py\u001b[0m in \u001b[0;36m_draw_frame\u001b[1;34m(self, framedata)\u001b[0m\n\u001b[0;32m   1726\u001b[0m         \u001b[1;31m# Call the func with framedata and args. If blitting is desired,\u001b[0m\u001b[1;33m\u001b[0m\u001b[1;33m\u001b[0m\u001b[1;33m\u001b[0m\u001b[0m\n\u001b[0;32m   1727\u001b[0m         \u001b[1;31m# func needs to return a sequence of any artists that were modified.\u001b[0m\u001b[1;33m\u001b[0m\u001b[1;33m\u001b[0m\u001b[1;33m\u001b[0m\u001b[0m\n\u001b[1;32m-> 1728\u001b[1;33m         \u001b[0mself\u001b[0m\u001b[1;33m.\u001b[0m\u001b[0m_drawn_artists\u001b[0m \u001b[1;33m=\u001b[0m \u001b[0mself\u001b[0m\u001b[1;33m.\u001b[0m\u001b[0m_func\u001b[0m\u001b[1;33m(\u001b[0m\u001b[0mframedata\u001b[0m\u001b[1;33m,\u001b[0m \u001b[1;33m*\u001b[0m\u001b[0mself\u001b[0m\u001b[1;33m.\u001b[0m\u001b[0m_args\u001b[0m\u001b[1;33m)\u001b[0m\u001b[1;33m\u001b[0m\u001b[1;33m\u001b[0m\u001b[0m\n\u001b[0m\u001b[0;32m   1729\u001b[0m \u001b[1;33m\u001b[0m\u001b[0m\n\u001b[0;32m   1730\u001b[0m         \u001b[1;32mif\u001b[0m \u001b[0mself\u001b[0m\u001b[1;33m.\u001b[0m\u001b[0m_blit\u001b[0m\u001b[1;33m:\u001b[0m\u001b[1;33m\u001b[0m\u001b[1;33m\u001b[0m\u001b[0m\n",
      "\u001b[1;32m~\\AppData\\Local\\Temp\\ipykernel_22356\\2288935981.py\u001b[0m in \u001b[0;36mupdate\u001b[1;34m(frame)\u001b[0m\n\u001b[0;32m      3\u001b[0m \u001b[1;32mdef\u001b[0m \u001b[0mupdate\u001b[0m\u001b[1;33m(\u001b[0m\u001b[0mframe\u001b[0m\u001b[1;33m)\u001b[0m\u001b[1;33m:\u001b[0m\u001b[1;33m\u001b[0m\u001b[1;33m\u001b[0m\u001b[0m\n\u001b[0;32m      4\u001b[0m     \u001b[0mc\u001b[0m \u001b[1;33m=\u001b[0m \u001b[0mframe\u001b[0m \u001b[1;33m%\u001b[0m \u001b[1;36m2\u001b[0m  \u001b[1;31m# Alternar entre 0 y 1\u001b[0m\u001b[1;33m\u001b[0m\u001b[1;33m\u001b[0m\u001b[0m\n\u001b[1;32m----> 5\u001b[1;33m     \u001b[0mLBM\u001b[0m\u001b[1;33m(\u001b[0m\u001b[0mc\u001b[0m\u001b[1;33m)\u001b[0m  \u001b[1;31m# Llamar a LBM para actualizar las distribuciones de velocidad\u001b[0m\u001b[1;33m\u001b[0m\u001b[1;33m\u001b[0m\u001b[0m\n\u001b[0m\u001b[0;32m      6\u001b[0m \u001b[1;33m\u001b[0m\u001b[0m\n\u001b[0;32m      7\u001b[0m     \u001b[1;31m# Limpiar el gráfico anterior\u001b[0m\u001b[1;33m\u001b[0m\u001b[1;33m\u001b[0m\u001b[1;33m\u001b[0m\u001b[0m\n",
      "\u001b[1;32m~\\AppData\\Local\\Temp\\ipykernel_22356\\1071034347.py\u001b[0m in \u001b[0;36mLBM\u001b[1;34m(c)\u001b[0m\n\u001b[0;32m     18\u001b[0m \u001b[1;33m\u001b[0m\u001b[0m\n\u001b[0;32m     19\u001b[0m                                         \u001b[0mR\u001b[0m\u001b[1;33m[\u001b[0m\u001b[0mc\u001b[0m\u001b[1;33m]\u001b[0m\u001b[1;33m[\u001b[0m\u001b[0mi\u001b[0m\u001b[1;33m]\u001b[0m\u001b[1;33m[\u001b[0m\u001b[0mj\u001b[0m\u001b[1;33m]\u001b[0m \u001b[1;33m+=\u001b[0m \u001b[0mf\u001b[0m\u001b[1;33m\u001b[0m\u001b[1;33m\u001b[0m\u001b[0m\n\u001b[1;32m---> 20\u001b[1;33m                                         \u001b[0mU\u001b[0m\u001b[1;33m[\u001b[0m\u001b[0mc\u001b[0m\u001b[1;33m]\u001b[0m\u001b[1;33m[\u001b[0m\u001b[0mi\u001b[0m\u001b[1;33m]\u001b[0m\u001b[1;33m[\u001b[0m\u001b[0mj\u001b[0m\u001b[1;33m]\u001b[0m \u001b[1;33m+=\u001b[0m \u001b[0mex\u001b[0m\u001b[1;33m[\u001b[0m\u001b[0mik\u001b[0m\u001b[1;33m]\u001b[0m\u001b[1;33m*\u001b[0m\u001b[0mf\u001b[0m\u001b[1;33m\u001b[0m\u001b[1;33m\u001b[0m\u001b[0m\n\u001b[0m\u001b[0;32m     21\u001b[0m                                         \u001b[0mV\u001b[0m\u001b[1;33m[\u001b[0m\u001b[0mc\u001b[0m\u001b[1;33m]\u001b[0m\u001b[1;33m[\u001b[0m\u001b[0mi\u001b[0m\u001b[1;33m]\u001b[0m\u001b[1;33m[\u001b[0m\u001b[0mj\u001b[0m\u001b[1;33m]\u001b[0m \u001b[1;33m+=\u001b[0m \u001b[0mey\u001b[0m\u001b[1;33m[\u001b[0m\u001b[0mik\u001b[0m\u001b[1;33m]\u001b[0m\u001b[1;33m*\u001b[0m\u001b[0mf\u001b[0m\u001b[1;33m\u001b[0m\u001b[1;33m\u001b[0m\u001b[0m\n",
      "\u001b[1;31mKeyboardInterrupt\u001b[0m: "
     ]
    },
    {
     "data": {
      "image/png": "[encoded data removed]",
      "text/plain": [
       "<Figure size 600x600 with 2 Axes>"
      ]
     },
     "metadata": {},
     "output_type": "display_data"
    }
   ],
   "source": [
    "# Crear la figura para la animación\n",
    "fig = plt.figure(figsize=(6, 6))\n",
    "\n",
    "# Crear la animación\n",
    "anim = ani.FuncAnimation(fig, update, frames=1001, interval=50)  # 1001 pasos, intervalo de 50 ms entre frames\n",
    "\n",
    "from IPython.display import HTML\n",
    "HTML(anim.to_jshtml())"
   ]
  },
  {
   "cell_type": "markdown",
   "id": "0885042a",
   "metadata": {},
   "source": [
    "### **Reference**\n",
    "[1] Matyka, M., & Dzikowski, M. (2021). Memory-efficient Lattice Boltzmann Method for low Reynolds number flows. Computer Physics Communications, 267, 108044. https://doi.org/10.1016/j.cpc.2021.108044"
   ]
  }
 ],
 "metadata": {
  "kernelspec": {
   "display_name": "Python 3",
   "language": "python",
   "name": "python3"
  },
  "language_info": {
   "codemirror_mode": {
    "name": "ipython",
    "version": 3
   },
   "file_extension": ".py",
   "mimetype": "text/x-python",
   "name": "python",
   "nbconvert_exporter": "python",
   "pygments_lexer": "ipython3",
   "version": "3.8.10"
  }
 },
 "nbformat": 4,
 "nbformat_minor": 5
}
